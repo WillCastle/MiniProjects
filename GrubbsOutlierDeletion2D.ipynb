{
 "cells": [
  {
   "cell_type": "code",
   "execution_count": 1,
   "metadata": {},
   "outputs": [],
   "source": [
    "import numpy as np\n",
    "from scipy import stats\n",
    "from scipy.stats import t"
   ]
  },
  {
   "cell_type": "code",
   "execution_count": 2,
   "metadata": {},
   "outputs": [],
   "source": [
    "def z_critical(alpha, n_samples):\n",
    "    t_crit = t.isf((alpha / (2 * n_samples)), (n_samples - 2))\n",
    "    z_crit = ((n_samples - 1) / np.sqrt(n_samples)) * np.sqrt((t_crit ** 2) / (n_samples - 2 + (t_crit ** 2)))\n",
    "    return z_crit"
   ]
  },
  {
   "cell_type": "code",
   "execution_count": 3,
   "metadata": {},
   "outputs": [],
   "source": [
    "def delete_outliers(input_data, alpha = 0.05):\n",
    "    \"\"\"\n",
    "    Replaces outliers in a 2d array with NaN, useful for colourmaps when outliers can make features invisible due to \n",
    "    scaling. The outliers are replaced with NaN because it is ignored when plotting colourmaps. Arguments: input_data is \n",
    "    a 2d array to remove outliers from, alpha is a significance level (0.05 is 95% confidence limit).\n",
    "    \"\"\"\n",
    "\n",
    "    shape1 = input_data.shape[0]\n",
    "    shape2 = input_data.shape[1]\n",
    "\n",
    "    # Replace infinities with NaN\n",
    "    fixed_data = input_data\n",
    "    fixed_data[np.isinf(fixed_data)] = np.nan\n",
    "\n",
    "    # Flatten, gets reshaped at the end\n",
    "    fixed_data = fixed_data.flatten()\n",
    "\n",
    "    outliers = []\n",
    "    outliers_idxs = []\n",
    "    z_scores = lambda data: abs(data - np.nanmean(data)) / np.nanstd(data)\n",
    "    outlier_idx = lambda zs: np.nanargmax(zs)\n",
    "\n",
    "    n_samples = len(fixed_data[np.isfinite(fixed_data)])\n",
    "    grubbs_thresh = z_critical(alpha, n_samples)\n",
    "    \n",
    "    print(type(grubbs_thresh))\n",
    "    \n",
    "    zs = z_scores(fixed_data)\n",
    "    outlier = np.nanmax(zs)\n",
    "    \n",
    "    #counter = 0\n",
    "    #print(counter)\n",
    "    \n",
    "    while outlier > grubbs_thresh:\n",
    "        \n",
    "        # update the outliers\n",
    "        idx = outlier_idx(zs)\n",
    "        outliers.append(fixed_data[idx])\n",
    "        outliers_idxs.append(idx)\n",
    "\n",
    "        # Change outlier to nan\n",
    "        fixed_data[idx] = np.nan\n",
    "\n",
    "        # Find the new most extreme value\n",
    "        zs = z_scores(fixed_data)\n",
    "        outlier = np.nanmax(zs)\n",
    "\n",
    "        # Find the new Grubbs threshold\n",
    "        n_samples = len(fixed_data[np.isfinite(fixed_data)])\n",
    "        grubbs_thresh = z_critical(alpha, n_samples)\n",
    "        \n",
    "        #counter += 1\n",
    "        #print(counter)\n",
    "    \n",
    "    output_data = fixed_data.reshape(shape1, shape2)\n",
    "\n",
    "    return output_data, outliers_idxs, outliers\n"
   ]
  },
  {
   "cell_type": "code",
   "execution_count": 5,
   "metadata": {},
   "outputs": [
    {
     "name": "stdout",
     "output_type": "stream",
     "text": [
      "<class 'numpy.float64'>\n",
      "Output array: \n",
      "[[0.13212071        nan 0.94755023 0.89970571        nan 0.04830488\n",
      "  0.277985   0.42294313 0.06650918 0.22387739]\n",
      " [0.88333609 0.2247593  0.81090556 0.48824332 0.68841422 0.90239296\n",
      "  0.43929712 0.05911964        nan 0.10600593]\n",
      " [0.69117305 0.42418529 0.59085381 0.61312581 0.39960654 0.66118481\n",
      "  0.55148808 0.16465778 0.18112308 0.33090194]\n",
      " [       nan 0.23949022 0.61318835 0.39174487 0.6531183  0.052388\n",
      "  0.07280173        nan 0.01364209 0.06954415]\n",
      " [0.39957212 0.05567763 0.6579389  0.94771726 0.59994422 0.68423441\n",
      "  0.31579547 0.91823265 0.2551594  0.28021967]\n",
      " [0.622558   0.69590443 0.5155312  0.20868139 0.08541889 0.07151166\n",
      "  0.77012611        nan 0.37861779 0.52366507]\n",
      " [0.54588421 0.47936195 0.84705892 0.17969653        nan 0.1125763\n",
      "  0.6956197  0.78109233 0.03937154 0.36587179]\n",
      " [0.83857881 0.60686192 0.44143435 0.08335895 0.5209275  0.17018344\n",
      "  0.22158719 0.47225367 0.4128726  0.68559058]\n",
      " [       nan        nan 0.29824465 0.33905904 0.70403719 0.42909086\n",
      "  0.77010974 0.71620378 0.2294845  0.07694856]\n",
      " [0.22695576 0.18972737 0.26276906 0.75528372 0.36813883 0.49004598\n",
      "  0.27201775 0.89023746 0.76688597 0.06588573]]\n",
      "Outlier index: \n",
      "[4, 18, 37, 64, 80]\n",
      "Outliers: \n",
      "[1000000.0, 1000000.0, 1000000.0, 1000000.0, 1000000.0]\n"
     ]
    }
   ],
   "source": [
    "# Testing\n",
    "n = 100\n",
    "test_data = np.array(np.random.rand(n)).reshape(10, 10)\n",
    "\n",
    "test_data = test_data.flatten()\n",
    "\n",
    "# Add in some inifnities to check it can handle them\n",
    "test_data[np.random.randint(0, n, 2)] = -np.inf\n",
    "test_data[np.random.randint(0, n, 2)] = np.inf\n",
    "\n",
    "# Make some values huge\n",
    "test_data[np.random.randint(0, n, 5)] = 1000000\n",
    "\n",
    "# Return to original shape\n",
    "test_data = test_data.reshape(10, 10)\n",
    "\n",
    "processed = delete_outliers(test_data, 0.95)\n",
    "\n",
    "print('Output array: ')\n",
    "print(processed[0])\n",
    "print('Outlier index: ')\n",
    "print(processed[1])\n",
    "print('Outliers: ')\n",
    "print(processed[2])\n"
   ]
  }
 ],
 "metadata": {
  "kernelspec": {
   "display_name": "Python 3",
   "language": "python",
   "name": "python3"
  },
  "language_info": {
   "codemirror_mode": {
    "name": "ipython",
    "version": 3
   },
   "file_extension": ".py",
   "mimetype": "text/x-python",
   "name": "python",
   "nbconvert_exporter": "python",
   "pygments_lexer": "ipython3",
   "version": "3.8.3"
  }
 },
 "nbformat": 4,
 "nbformat_minor": 2
}
