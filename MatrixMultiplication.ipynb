{
 "cells": [
  {
   "cell_type": "code",
   "execution_count": 3,
   "metadata": {},
   "outputs": [
    {
     "name": "stdout",
     "output_type": "stream",
     "text": [
      "[['a0' 'a1']\n",
      " ['a2' 'a3']\n",
      " ['a4' 'a5']\n",
      " ['a6' 'a7']]\n",
      "-----------------------------------------------------------------------------------\n",
      "[['b0' 'b1' 'b2']\n",
      " ['b3' 'b4' 'b5']]\n",
      "-----------------------------------------------------------------------------------\n",
      "[['a0b0+a1b3' 'a0b1+a1b4' 'a0b2+a1b5']\n",
      " ['a2b0+a3b3' 'a2b1+a3b4' 'a2b2+a3b5']\n",
      " ['a4b0+a5b3' 'a4b1+a5b4' 'a4b2+a5b5']\n",
      " ['a6b0+a7b3' 'a6b1+a7b4' 'a6b2+a7b5']]\n",
      "(4, 3)\n"
     ]
    }
   ],
   "source": [
    "# Generalised matrix multiplier to show the algebraic origin of elements as strings. \n",
    "import numpy as np\n",
    "from functools import reduce\n",
    "\n",
    "# 'N' is the shared inner dimension, 'I' and 'J' are the outer dimension of matrices 'A' and 'B' respectively\n",
    "I, J, N = 4, 3, 2\n",
    "\n",
    "A = np.array(['a' + str(phi) for phi in range(I * N)]).reshape(I, N)\n",
    "B = np.array(['b' + str(phi) for phi in range(N * J)]).reshape(N, J)\n",
    "\n",
    "C = np.array([[(reduce(lambda x, y: x + \"+\" + y, [A[i][n] + B[n][j] for n in range(N)]))\n",
    "               for i in range(I) for j in range(J)]]).reshape(I, J)\n",
    "\n",
    "print(A)\n",
    "print('-----------------------------------------------------------------------------------')\n",
    "print(B)\n",
    "print('-----------------------------------------------------------------------------------')\n",
    "print(C)\n",
    "print(np.shape(C))"
   ]
  },
  {
   "cell_type": "code",
   "execution_count": null,
   "metadata": {},
   "outputs": [],
   "source": [
    "# This is a method to perform a general matrix multiplication using only the built in functions of python 3\n",
    "\n",
    "def MatMult(A, B):\n",
    "    \"\"\"\n",
    "    Returns the resultant matrix of the matrix multiplication of matrices A and B, having dimensions (I, N) and (N, J)\n",
    "    respectively. The resultant matrix has dimensions (I, J)\n",
    "    \"\"\"\n",
    "    \n",
    "    # Find the dimensions of the input matrices\n",
    "    I = len(A)    # This is the height of matrix A and the resultant matrix\n",
    "    J = len(B[0]) # This is the width of matrix B and the resultant matrix, found by taking the length of a row of B\n",
    "    N = len(B)    # This is the width of A and the height of B, the inner dimension of the multiplication\n",
    "    \n",
    "    # Generate a 1D list of all the elements for the resultant matrix\n",
    "    lst = [[sum([(A[i][n] * B[n][j]) for n in range(N)]) for j in range(J)] for i in range(I)]\n",
    "    \n",
    "    # Convert 1D list into a 2D list of lists\n",
    "    return [[element for element in row] for row in [lst[idx:idx + J] for idx in range(0, len(lst), J)]]"
   ]
  },
  {
   "cell_type": "code",
   "execution_count": 3,
   "metadata": {},
   "outputs": [
    {
     "name": "stdout",
     "output_type": "stream",
     "text": [
      "[[[0.33425255086426714, 0.09532564562548283, 0.052682653816651596, 0.44118889298493236, 0.3292561427264727, 0.36222666498581446], [1.0304498642591953, 0.08277525483360304, 0.18087463739496515, 0.5544286865913768, 0.28621408471969995, 0.5189068420727228], [0.3339623518333385, 0.09629357504490572, 0.0525450247197888, 0.44481596187568484, 0.3325978559136909, 0.3648874876353687]]]\n",
      "[[0.33425255 0.09532565 0.05268265 0.44118889 0.32925614 0.36222666]\n",
      " [1.03044986 0.08277525 0.18087464 0.55442869 0.28621408 0.51890684]\n",
      " [0.33396235 0.09629358 0.05254502 0.44481596 0.33259786 0.36488749]]\n",
      "[[[0. 0. 0. 0. 0. 0.]\n",
      "  [0. 0. 0. 0. 0. 0.]\n",
      "  [0. 0. 0. 0. 0. 0.]]]\n"
     ]
    }
   ],
   "source": [
    "# This cell imports numpy to generate two matrices easily and check the output of the above function against numpy's\n",
    "# built in function for matrix multiplication: numpy.dot()\n",
    "\n",
    "# Import numpy\n",
    "import numpy as np\n",
    "\n",
    "# I = 3, J = 6, N = 2\n",
    "A = np.random.rand(3, 2)\n",
    "B = np.random.rand(2, 6)\n",
    "\n",
    "# Using 'MatMult'\n",
    "C1 = MatMult(A, B)\n",
    "\n",
    "# Using 'numpy.dot()'\n",
    "C2 = np.dot(A, B)\n",
    "\n",
    "print(C1)\n",
    "print(C2)\n",
    "# This should be all zeros\n",
    "print(C1 - C2)"
   ]
  }
 ],
 "metadata": {
  "kernelspec": {
   "display_name": "Python 3",
   "language": "python",
   "name": "python3"
  },
  "language_info": {
   "codemirror_mode": {
    "name": "ipython",
    "version": 3
   },
   "file_extension": ".py",
   "mimetype": "text/x-python",
   "name": "python",
   "nbconvert_exporter": "python",
   "pygments_lexer": "ipython3",
   "version": "3.8.3"
  }
 },
 "nbformat": 4,
 "nbformat_minor": 2
}
