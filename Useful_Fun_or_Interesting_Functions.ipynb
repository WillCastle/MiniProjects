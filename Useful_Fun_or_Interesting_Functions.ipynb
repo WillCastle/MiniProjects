{
 "cells": [
  {
   "cell_type": "markdown",
   "metadata": {},
   "source": [
    "#### Notebook for miscellaneous useful or interesting functions and coding challenges"
   ]
  },
  {
   "cell_type": "code",
   "execution_count": 1,
   "metadata": {},
   "outputs": [
    {
     "data": {
      "text/plain": [
       "'foo'"
      ]
     },
     "execution_count": 1,
     "metadata": {},
     "output_type": "execute_result"
    }
   ],
   "source": [
    "import traceback\n",
    "\n",
    "def var_name(var):\n",
    "    \n",
    "    stack = traceback.extract_stack()\n",
    "    filename, lineno, function_name, code = stack[-2]\n",
    "    variable_name = code[code.index('(') + 1:code.index(')')]\n",
    "    \n",
    "    return variable_name\n",
    "\n",
    "\n",
    "foo = 'bar'\n",
    "my_var_name = var_name(foo)\n",
    "my_var_name"
   ]
  },
  {
   "cell_type": "code",
   "execution_count": 2,
   "metadata": {},
   "outputs": [
    {
     "data": {
      "text/plain": [
       "{'A': 1, 'B': 2, 'C': 3}"
      ]
     },
     "execution_count": 2,
     "metadata": {},
     "output_type": "execute_result"
    }
   ],
   "source": [
    "def rename_dict_keys(dictionary, new_keys):\n",
    "    \n",
    "    return {key.replace(key, new_key): value \n",
    "            for key, value, new_key \n",
    "            in zip(dictionary.keys(), dictionary.values(), new_keys)}\n",
    "\n",
    "my_dict = dict(a = 1, b = 2, c = 3)\n",
    "new_keys = ['A', 'B', 'C']\n",
    "\n",
    "rename_dict_keys(my_dict, new_keys)"
   ]
  },
  {
   "cell_type": "code",
   "execution_count": 4,
   "metadata": {},
   "outputs": [
    {
     "name": "stdout",
     "output_type": "stream",
     "text": [
      "15\n"
     ]
    },
    {
     "data": {
      "image/png": "[encoded data removed]",
      "text/plain": [
       "<Figure size 432x288 with 1 Axes>"
      ]
     },
     "metadata": {
      "needs_background": "light"
     },
     "output_type": "display_data"
    },
    {
     "name": "stdout",
     "output_type": "stream",
     "text": [
      "['Autodidacticism', 'Autodidacticis', 'utodidacticism', 'Autodidactici', 'utodidacticis', 'todidacticism', 'Autodidactic', 'utodidactici', 'todidacticis', 'odidacticism', 'Autodidacti', 'utodidactic', 'todidactici', 'odidacticis', 'didacticism', 'Autodidact', 'utodidacti', 'todidactic', 'odidactici', 'didacticis', 'idacticism', 'Autodidac', 'utodidact', 'todidacti', 'odidactic', 'didactici', 'idacticis', 'dacticism', 'Autodida', 'utodidac', 'todidact', 'odidacti', 'didactic', 'idactici', 'dacticis', 'acticism', 'Autodid', 'utodida', 'todidac', 'odidact', 'didacti', 'idactic', 'dactici', 'acticis', 'cticism', 'Autodi', 'utodid', 'todida', 'odidac', 'didact', 'idacti', 'dactic', 'actici', 'cticis', 'ticism', 'Autod', 'utodi', 'todid', 'odida', 'didac', 'idact', 'dacti', 'actic', 'ctici', 'ticis', 'icism', 'Auto', 'utod', 'todi', 'odid', 'dida', 'idac', 'dact', 'acti', 'ctic', 'tici', 'icis', 'cism', 'Aut', 'uto', 'tod', 'odi', 'did', 'ida', 'dac', 'act', 'cti', 'tic', 'ici', 'cis', 'ism', 'Au', 'ut', 'to', 'od', 'di', 'id', 'da', 'ac', 'ct', 'ti', 'ic', 'ci', 'is', 'sm']\n",
      "0      foo BAR\n",
      "1      FOO bar\n",
      "2       OBORAF\n",
      "3      foo BAR\n",
      "4      bar FOO\n",
      "        ...   \n",
      "995        FOO\n",
      "996        OOF\n",
      "997        bar\n",
      "998        oof\n",
      "999        bar\n",
      "Length: 1000, dtype: object\n",
      "foo BAR & FOO bar: Similarity = 1.0\n",
      "foo BAR & OBORAF: Similarity = -0.14285714285714285\n",
      "foo BAR & bar FOO: Similarity = 0.8571428571428571\n",
      "foo BAR & bar: Similarity = -0.14285714285714285\n",
      "foo BAR & rab oof: Similarity = 0.2857142857142857\n",
      "foo BAR & BAR foo: Similarity = 0.8571428571428571\n",
      "foo BAR & rab: Similarity = -0.5714285714285714\n",
      "foo BAR & RAB: Similarity = -0.5714285714285714\n",
      "foo BAR & oof rab: Similarity = 0.2857142857142857\n",
      "foo BAR & BAR: Similarity = -0.14285714285714285\n",
      "foo BAR & foo: Similarity = -0.14285714285714285\n",
      "foo BAR & oof: Similarity = -0.2857142857142857\n",
      "foo BAR & FOO: Similarity = -0.14285714285714285\n",
      "foo BAR & OOF: Similarity = -0.2857142857142857\n",
      "FOO bar & OBORAF: Similarity = -0.14285714285714285\n",
      "FOO bar & bar FOO: Similarity = 0.8571428571428571\n",
      "FOO bar & bar: Similarity = -0.14285714285714285\n",
      "FOO bar & rab oof: Similarity = 0.2857142857142857\n",
      "FOO bar & BAR foo: Similarity = 0.8571428571428571\n",
      "FOO bar & rab: Similarity = -0.5714285714285714\n",
      "FOO bar & RAB: Similarity = -0.5714285714285714\n",
      "FOO bar & oof rab: Similarity = 0.2857142857142857\n",
      "FOO bar & BAR: Similarity = -0.14285714285714285\n",
      "FOO bar & foo: Similarity = -0.14285714285714285\n",
      "FOO bar & oof: Similarity = -0.2857142857142857\n",
      "FOO bar & FOO: Similarity = -0.14285714285714285\n",
      "FOO bar & OOF: Similarity = -0.2857142857142857\n",
      "OBORAF & bar FOO: Similarity = -0.16666666666666666\n",
      "OBORAF & bar: Similarity = -0.5\n",
      "OBORAF & rab oof: Similarity = 0.16666666666666666\n",
      "OBORAF & BAR foo: Similarity = -0.16666666666666666\n",
      "OBORAF & rab: Similarity = -0.16666666666666669\n",
      "OBORAF & RAB: Similarity = -0.16666666666666669\n",
      "OBORAF & oof rab: Similarity = 0.16666666666666666\n",
      "OBORAF & BAR: Similarity = -0.5\n",
      "OBORAF & foo: Similarity = -0.5\n",
      "OBORAF & oof: Similarity = -0.5\n",
      "OBORAF & FOO: Similarity = -0.5\n",
      "OBORAF & OOF: Similarity = -0.5\n",
      "bar FOO & bar: Similarity = -0.14285714285714285\n",
      "bar FOO & rab oof: Similarity = 0.2857142857142857\n",
      "bar FOO & BAR foo: Similarity = 1.0\n",
      "bar FOO & rab: Similarity = -0.5714285714285714\n",
      "bar FOO & RAB: Similarity = -0.5714285714285714\n",
      "bar FOO & oof rab: Similarity = 0.2857142857142857\n",
      "bar FOO & BAR: Similarity = -0.14285714285714285\n",
      "bar FOO & foo: Similarity = -0.14285714285714285\n",
      "bar FOO & oof: Similarity = -0.2857142857142857\n",
      "bar FOO & FOO: Similarity = -0.14285714285714285\n",
      "bar FOO & OOF: Similarity = -0.2857142857142857\n",
      "bar & rab oof: Similarity = -1.3333333333333333\n",
      "bar & BAR foo: Similarity = -0.33333333333333326\n",
      "bar & rab: Similarity = 0.0\n",
      "bar & RAB: Similarity = 0.0\n",
      "bar & oof rab: Similarity = -1.3333333333333333\n",
      "bar & BAR: Similarity = 1.0\n",
      "bar & foo: Similarity = 0.0\n",
      "bar & oof: Similarity = 0.0\n",
      "bar & FOO: Similarity = 0.0\n",
      "bar & OOF: Similarity = 0.0\n",
      "rab oof & BAR foo: Similarity = 0.2857142857142857\n",
      "rab oof & rab: Similarity = -0.14285714285714285\n",
      "rab oof & RAB: Similarity = -0.14285714285714285\n",
      "rab oof & oof rab: Similarity = 0.8571428571428571\n",
      "rab oof & BAR: Similarity = -0.5714285714285714\n",
      "rab oof & foo: Similarity = -0.2857142857142857\n",
      "rab oof & oof: Similarity = -0.14285714285714285\n",
      "rab oof & FOO: Similarity = -0.2857142857142857\n",
      "rab oof & OOF: Similarity = -0.14285714285714285\n",
      "BAR foo & rab: Similarity = -0.5714285714285714\n",
      "BAR foo & RAB: Similarity = -0.5714285714285714\n",
      "BAR foo & oof rab: Similarity = 0.2857142857142857\n",
      "BAR foo & BAR: Similarity = -0.14285714285714285\n",
      "BAR foo & foo: Similarity = -0.14285714285714285\n",
      "BAR foo & oof: Similarity = -0.2857142857142857\n",
      "BAR foo & FOO: Similarity = -0.14285714285714285\n",
      "BAR foo & OOF: Similarity = -0.2857142857142857\n",
      "rab & RAB: Similarity = 1.0\n",
      "rab & oof rab: Similarity = -0.33333333333333326\n",
      "rab & BAR: Similarity = 0.0\n",
      "rab & foo: Similarity = 0.0\n",
      "rab & oof: Similarity = 0.0\n",
      "rab & FOO: Similarity = 0.0\n",
      "rab & OOF: Similarity = 0.0\n",
      "RAB & oof rab: Similarity = -0.33333333333333326\n",
      "RAB & BAR: Similarity = 0.0\n",
      "RAB & foo: Similarity = 0.0\n",
      "RAB & oof: Similarity = 0.0\n",
      "RAB & FOO: Similarity = 0.0\n",
      "RAB & OOF: Similarity = 0.0\n",
      "oof rab & BAR: Similarity = -0.5714285714285714\n",
      "oof rab & foo: Similarity = -0.2857142857142857\n",
      "oof rab & oof: Similarity = -0.14285714285714285\n",
      "oof rab & FOO: Similarity = -0.2857142857142857\n",
      "oof rab & OOF: Similarity = -0.14285714285714285\n",
      "BAR & foo: Similarity = 0.0\n",
      "BAR & oof: Similarity = 0.0\n",
      "BAR & FOO: Similarity = 0.0\n",
      "BAR & OOF: Similarity = 0.0\n",
      "foo & oof: Similarity = 0.6666666666666666\n",
      "foo & FOO: Similarity = 1.0\n",
      "foo & OOF: Similarity = 0.6666666666666666\n",
      "oof & FOO: Similarity = 0.6666666666666666\n",
      "oof & OOF: Similarity = 1.0\n",
      "FOO & OOF: Similarity = 0.6666666666666666\n",
      "[('foo BAR', 'FOO bar'), ('foo BAR', 'bar FOO'), ('foo BAR', 'BAR foo'), ('FOO bar', 'bar FOO'), ('FOO bar', 'BAR foo'), ('bar FOO', 'BAR foo'), ('bar', 'BAR'), ('rab oof', 'oof rab'), ('rab', 'RAB'), ('foo', 'FOO'), ('oof', 'OOF')]\n"
     ]
    }
   ],
   "source": [
    "import numpy as np\n",
    "import pandas as pd\n",
    "\n",
    "import matplotlib.pyplot as plt\n",
    "import seaborn as sns\n",
    "\n",
    "def segments(string):\n",
    "    \n",
    "    lengths = [i for i in range(len(string))]\n",
    "    segment_lists = [[string[start: end + 1] for start in lengths[:end]] for end in lengths[1:]][::-1]\n",
    "    \n",
    "    segs = []\n",
    "    for segment_list in segment_lists:\n",
    "        \n",
    "        segs += segment_list\n",
    "    \n",
    "    segs.sort(key = len)\n",
    "    segs = segs[::-1]\n",
    "    \n",
    "    return segs\n",
    "\n",
    "# Testing 'segments()'\n",
    "my_string = 'Autodidacticism'\n",
    "my_segs = segments(my_string)\n",
    "print(len(my_string))\n",
    "sns.countplot([len(seg) for seg in my_segs])\n",
    "plt.title('Number of Segments by Segment Length')\n",
    "plt.show()\n",
    "print(my_segs)\n",
    "\n",
    "def similar_vars(series, similarity_threshold = 0.7, ignore_caps = True, print_sims = False):\n",
    "    \n",
    "    series_copy = series.copy().fillna('str_NaN')\n",
    "    categories = pd.Series(index = series_copy.unique(), dtype = str)\n",
    "    categories_copy = categories.copy()\n",
    "    \n",
    "    similar_pairs = []\n",
    "    \n",
    "    for category in categories.index:\n",
    "        \n",
    "        categories_copy = categories_copy.drop(category)\n",
    "        \n",
    "        if ignore_caps:\n",
    "            \n",
    "            category_segs = segments(category.lower())\n",
    "            \n",
    "        else:\n",
    "            \n",
    "            category_segs = segments(category)\n",
    "        \n",
    "        for other_category in categories_copy.index:\n",
    "            \n",
    "            similarity_score = 0\n",
    "            \n",
    "            copy_other = other_category\n",
    "            \n",
    "            for seg in category_segs:\n",
    "                \n",
    "                if ignore_caps:\n",
    "                \n",
    "                    if seg in copy_other.lower():\n",
    "\n",
    "                        seg_idx = (copy_other.lower().find(seg), copy_other.lower().find(seg) + len(seg))\n",
    "                        original_case_seg = copy_other[seg_idx[0]: seg_idx[1]]\n",
    "\n",
    "                        similarity_score += (len(seg) / len(category))\n",
    "\n",
    "                        copy_other = copy_other.replace(original_case_seg, '')\n",
    "                        \n",
    "                else:\n",
    "                    \n",
    "                    if seg in copy_other:\n",
    "                        \n",
    "                        similarity_score += (len(seg) / len(category))\n",
    "\n",
    "                        copy_other = copy_other.replace(seg, '')\n",
    "                    \n",
    "            similarity_score -= abs(len(other_category) - len(category)) / len(category)\n",
    "            \n",
    "            if print_sims:\n",
    "                \n",
    "                print('{} & {}: Similarity = {}'.format(category, other_category, similarity_score))\n",
    "            \n",
    "            if similarity_score >= similarity_threshold:\n",
    "                \n",
    "                similar_pairs.append((category, other_category))\n",
    "                \n",
    "    return similar_pairs\n",
    "\n",
    "# Testing 'similar_vars()'\n",
    "categories = ['foo', 'FOO', 'BAR', 'bar', 'bar FOO', 'BAR foo', 'FOO bar', 'foo BAR', 'rab oof', 'oof rab', 'OOF', \n",
    "              'rab', 'oof', 'RAB', 'OBORAF']\n",
    "my_series = pd.Series(data = [categories[np.random.randint(0, len(categories))] for i in range(1000)])\n",
    "print(my_series)\n",
    "print(similar_vars(my_series, print_sims = True))"
   ]
  },
  {
   "cell_type": "code",
   "execution_count": 5,
   "metadata": {},
   "outputs": [
    {
     "data": {
      "text/plain": [
       "[1, 2, 4, 7, 8, 11, 13, 14, 16, 17, 19, 22, 23, 26, 28, 29]"
      ]
     },
     "execution_count": 5,
     "metadata": {},
     "output_type": "execute_result"
    }
   ],
   "source": [
    "# FizzBuzz\n",
    "\n",
    "def fizz_buzz(up_to = 30, divisors = [3, 5]):\n",
    "    \"\"\"\n",
    "    Returns a list of all the integers that are not divisible by any of the 'divisors', up to the value of 'up_to'.\n",
    "    \"\"\"\n",
    "    \n",
    "    return [i for i in range(up_to) if all([i % d for d in divisors])]\n",
    "\n",
    "fizz_buzz()"
   ]
  },
  {
   "cell_type": "code",
   "execution_count": 6,
   "metadata": {},
   "outputs": [
    {
     "ename": "FileNotFoundError",
     "evalue": "[Errno 2] No such file or directory: 'untitled.txt'",
     "output_type": "error",
     "traceback": [
      "\u001b[1;31m---------------------------------------------------------------------------\u001b[0m",
      "\u001b[1;31mFileNotFoundError\u001b[0m                         Traceback (most recent call last)",
      "\u001b[1;32m<ipython-input-6-78dc5a172026>\u001b[0m in \u001b[0;36m<module>\u001b[1;34m\u001b[0m\n\u001b[0;32m      5\u001b[0m     \u001b[1;32mreturn\u001b[0m \u001b[0mlen\u001b[0m\u001b[1;33m(\u001b[0m\u001b[1;33m[\u001b[0m\u001b[0mcharacter\u001b[0m \u001b[1;32mfor\u001b[0m \u001b[0mcharacter\u001b[0m \u001b[1;32min\u001b[0m \u001b[0mopen\u001b[0m\u001b[1;33m(\u001b[0m\u001b[0mtxt_file\u001b[0m\u001b[1;33m)\u001b[0m\u001b[1;33m.\u001b[0m\u001b[0mread\u001b[0m\u001b[1;33m(\u001b[0m\u001b[1;33m)\u001b[0m \u001b[1;32mif\u001b[0m \u001b[0mcharacter\u001b[0m\u001b[1;33m.\u001b[0m\u001b[0misupper\u001b[0m\u001b[1;33m(\u001b[0m\u001b[1;33m)\u001b[0m\u001b[1;33m]\u001b[0m\u001b[1;33m)\u001b[0m\u001b[1;33m\u001b[0m\u001b[1;33m\u001b[0m\u001b[0m\n\u001b[0;32m      6\u001b[0m \u001b[1;33m\u001b[0m\u001b[0m\n\u001b[1;32m----> 7\u001b[1;33m \u001b[0mcount_upper\u001b[0m\u001b[1;33m(\u001b[0m\u001b[1;34m'untitled.txt'\u001b[0m\u001b[1;33m)\u001b[0m\u001b[1;33m\u001b[0m\u001b[1;33m\u001b[0m\u001b[0m\n\u001b[0m",
      "\u001b[1;32m<ipython-input-6-78dc5a172026>\u001b[0m in \u001b[0;36mcount_upper\u001b[1;34m(txt_file)\u001b[0m\n\u001b[0;32m      3\u001b[0m \u001b[1;32mdef\u001b[0m \u001b[0mcount_upper\u001b[0m\u001b[1;33m(\u001b[0m\u001b[0mtxt_file\u001b[0m\u001b[1;33m)\u001b[0m\u001b[1;33m:\u001b[0m\u001b[1;33m\u001b[0m\u001b[1;33m\u001b[0m\u001b[0m\n\u001b[0;32m      4\u001b[0m \u001b[1;33m\u001b[0m\u001b[0m\n\u001b[1;32m----> 5\u001b[1;33m     \u001b[1;32mreturn\u001b[0m \u001b[0mlen\u001b[0m\u001b[1;33m(\u001b[0m\u001b[1;33m[\u001b[0m\u001b[0mcharacter\u001b[0m \u001b[1;32mfor\u001b[0m \u001b[0mcharacter\u001b[0m \u001b[1;32min\u001b[0m \u001b[0mopen\u001b[0m\u001b[1;33m(\u001b[0m\u001b[0mtxt_file\u001b[0m\u001b[1;33m)\u001b[0m\u001b[1;33m.\u001b[0m\u001b[0mread\u001b[0m\u001b[1;33m(\u001b[0m\u001b[1;33m)\u001b[0m \u001b[1;32mif\u001b[0m \u001b[0mcharacter\u001b[0m\u001b[1;33m.\u001b[0m\u001b[0misupper\u001b[0m\u001b[1;33m(\u001b[0m\u001b[1;33m)\u001b[0m\u001b[1;33m]\u001b[0m\u001b[1;33m)\u001b[0m\u001b[1;33m\u001b[0m\u001b[1;33m\u001b[0m\u001b[0m\n\u001b[0m\u001b[0;32m      6\u001b[0m \u001b[1;33m\u001b[0m\u001b[0m\n\u001b[0;32m      7\u001b[0m \u001b[0mcount_upper\u001b[0m\u001b[1;33m(\u001b[0m\u001b[1;34m'untitled.txt'\u001b[0m\u001b[1;33m)\u001b[0m\u001b[1;33m\u001b[0m\u001b[1;33m\u001b[0m\u001b[0m\n",
      "\u001b[1;31mFileNotFoundError\u001b[0m: [Errno 2] No such file or directory: 'untitled.txt'"
     ]
    }
   ],
   "source": [
    "# Upper case count\n",
    "\n",
    "def count_upper(txt_file):\n",
    "    \n",
    "    return len([character for character in open(txt_file).read() if character.isupper()])\n",
    "\n",
    "count_upper('untitled.txt')"
   ]
  },
  {
   "cell_type": "code",
   "execution_count": null,
   "metadata": {},
   "outputs": [],
   "source": []
  }
 ],
 "metadata": {
  "kernelspec": {
   "display_name": "Python 3",
   "language": "python",
   "name": "python3"
  },
  "language_info": {
   "codemirror_mode": {
    "name": "ipython",
    "version": 3
   },
   "file_extension": ".py",
   "mimetype": "text/x-python",
   "name": "python",
   "nbconvert_exporter": "python",
   "pygments_lexer": "ipython3",
   "version": "3.8.3"
  }
 },
 "nbformat": 4,
 "nbformat_minor": 4
}
